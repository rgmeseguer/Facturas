{
 "cells": [
  {
   "cell_type": "code",
   "execution_count": 24,
   "metadata": {},
   "outputs": [],
   "source": [
    "import openpyxl as oxl"
   ]
  },
  {
   "cell_type": "markdown",
   "metadata": {},
   "source": [
    "## Excel Nuevo Mes"
   ]
  },
  {
   "cell_type": "code",
   "execution_count": 25,
   "metadata": {},
   "outputs": [
    {
     "name": "stdout",
     "output_type": "stream",
     "text": [
      "Mes:juliol\n",
      "Archivo del mes anterior:maig_banc.xlsx\n"
     ]
    }
   ],
   "source": [
    "DIR = \"D:\\\\Dropbox\\\\Rafa-Sandra\\\\\"\n",
    "NewMonth = input(\"Mes:\")\n",
    "oldfile = input(\"Archivo del mes anterior:\")\n",
    "file = NewMonth+\"_banc.xlsx\""
   ]
  },
  {
   "cell_type": "code",
   "execution_count": 26,
   "metadata": {},
   "outputs": [],
   "source": [
    "wb = oxl.load_workbook(filename=DIR+oldfile)"
   ]
  },
  {
   "cell_type": "code",
   "execution_count": 27,
   "metadata": {},
   "outputs": [],
   "source": [
    "sheet = wb[\"Resum mensual\"]\n",
    "names = []\n",
    "name = \"\"\n",
    "n = 3\n",
    "while name != \"TOTAL\":\n",
    "    cellNames = \"C\"+str(n)\n",
    "    cellnFact = \"A\"+str(n)\n",
    "    name = sheet[cellNames].value\n",
    "    if name != None and name != \"TOTAL\": \n",
    "        names.append(name)\n",
    "        nfact = sheet[cellnFact].value\n",
    "    n += 1\n",
    "nfact = nfact + 1"
   ]
  },
  {
   "cell_type": "code",
   "execution_count": 29,
   "metadata": {},
   "outputs": [
    {
     "name": "stdout",
     "output_type": "stream",
     "text": [
      "Worksheet Paola  does not exist.\n",
      "Worksheet Adria Garcia does not exist.\n",
      "Worksheet Alis does not exist.\n",
      "Worksheet Andrea does not exist.\n",
      "Worksheet Antonia does not exist.\n",
      "Worksheet ines does not exist.\n",
      "Worksheet Laura Monleon does not exist.\n",
      "Worksheet Lydia does not exist.\n",
      "Worksheet M Amparo does not exist.\n",
      "Worksheet Mar Machi does not exist.\n",
      "Worksheet Sonia does not exist.\n",
      "Worksheet Cristiana does not exist.\n",
      "Worksheet Enric ros does not exist.\n",
      "Worksheet Esther does not exist.\n",
      "Worksheet Eva does not exist.\n",
      "Worksheet Lucia does not exist.\n",
      "Worksheet Marta M does not exist.\n",
      "Worksheet Sandra does not exist.\n",
      "Worksheet Zainab does not exist.\n",
      "Worksheet Alba i Pau Marques does not exist.\n",
      "Worksheet Carla i Susana does not exist.\n",
      "Worksheet Elena i Graciela does not exist.\n",
      "Worksheet Gema i Mar Moltó does not exist.\n"
     ]
    }
   ],
   "source": [
    "for sheet in names:\n",
    "    try:\n",
    "        ws = wb[sheet]\n",
    "    except:\n",
    "        print('Worksheet '+sheet+' does not exist.')\n",
    "    string = NewMonth.upper()\n",
    "    ws[\"E1\"] = string\n",
    "    \n",
    "    \n",
    "    "
   ]
  },
  {
   "cell_type": "code",
   "execution_count": 30,
   "metadata": {},
   "outputs": [],
   "source": [
    "wb.save(filename=DIR+file)"
   ]
  },
  {
   "cell_type": "code",
   "execution_count": null,
   "metadata": {},
   "outputs": [],
   "source": []
  }
 ],
 "metadata": {
  "kernelspec": {
   "display_name": "Python 3",
   "language": "python",
   "name": "python3"
  },
  "language_info": {
   "codemirror_mode": {
    "name": "ipython",
    "version": 3
   },
   "file_extension": ".py",
   "mimetype": "text/x-python",
   "name": "python",
   "nbconvert_exporter": "python",
   "pygments_lexer": "ipython3",
   "version": "3.7.5"
  }
 },
 "nbformat": 4,
 "nbformat_minor": 4
}
